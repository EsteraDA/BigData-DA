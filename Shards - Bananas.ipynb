{
 "cells": [
  {
   "cell_type": "code",
   "execution_count": 1,
   "id": "78b3db2a",
   "metadata": {},
   "outputs": [],
   "source": [
    "# loading libraries\n",
    "import os\n",
    "import cv2\n",
    "import numpy as np"
   ]
  },
  {
   "cell_type": "code",
   "execution_count": 2,
   "id": "5ac7faa6",
   "metadata": {},
   "outputs": [],
   "source": [
    "# creating input directory where all images are stored\n",
    "input_directory = '/home/hduser/Bananas/'"
   ]
  },
  {
   "cell_type": "code",
   "execution_count": 3,
   "id": "be7c0415",
   "metadata": {},
   "outputs": [],
   "source": [
    "# creating output directory where shards will be saved\n",
    "output_directory = '/home/hduser/image_sharding/shards'"
   ]
  },
  {
   "cell_type": "code",
   "execution_count": 4,
   "id": "db044f10",
   "metadata": {},
   "outputs": [],
   "source": [
    "# number of shards\n",
    "num_partitions = 5"
   ]
  },
  {
   "cell_type": "code",
   "execution_count": 5,
   "id": "71b3d781",
   "metadata": {},
   "outputs": [],
   "source": [
    "# creating the putput directory if it doesn't exist\n",
    "os.makedirs(output_directory, exist_ok = True)"
   ]
  },
  {
   "cell_type": "code",
   "execution_count": 6,
   "id": "bb9a3965",
   "metadata": {},
   "outputs": [],
   "source": [
    "# creating a function to split data to equal parts\n",
    "def split_list(input_list, num_parts):\n",
    "    avg = len(input_list) // num_parts\n",
    "    remainder = len(input_list) % num_parts\n",
    "    partitions = []\n",
    "    \n",
    "    start = 0\n",
    "    for _ in range(num_parts):\n",
    "        end = start + avg + (1 if remainder > 0 else 0)\n",
    "        partitions.append(input_list[start:end])\n",
    "        start = end\n",
    "        remainder -=1\n",
    "        \n",
    "    return partitions"
   ]
  },
  {
   "cell_type": "code",
   "execution_count": 7,
   "id": "8fd1a364",
   "metadata": {},
   "outputs": [],
   "source": [
    "# list all image files in the input directory\n",
    "image_files = [f for f in os.listdir(input_directory) if f.lower().endswith(('.jpg'))]"
   ]
  },
  {
   "cell_type": "code",
   "execution_count": 8,
   "id": "cec1e011",
   "metadata": {},
   "outputs": [],
   "source": [
    "# split image files into partitions\n",
    "partitions = split_list(image_files, num_partitions)"
   ]
  },
  {
   "cell_type": "code",
   "execution_count": 10,
   "id": "d3bae796",
   "metadata": {},
   "outputs": [
    {
     "name": "stdout",
     "output_type": "stream",
     "text": [
      "Sharding complete. Shards are saved in /home/hduser/image_sharding/shards\n"
     ]
    }
   ],
   "source": [
    "# shard images into partitions\n",
    "for i, partition in enumerate(partitions):\n",
    "    partition_output_dir = os.path.join(output_directory, f'shard_{i}')\n",
    "    os.makedirs(partition_output_dir, exist_ok = True)\n",
    "    \n",
    "    for image_file in partition:\n",
    "        image_path = os.path.join(input_directory, image_file)\n",
    "        img = cv2.imread(image_path)\n",
    "        \n",
    "        img = cv2. resize(img, (540,960))\n",
    "        \n",
    "        \n",
    "        output_path = os.path.join(partition_output_dir, image_file)\n",
    "        cv2.imwrite(output_path, img)\n",
    "        \n",
    "print(f'Sharding complete. Shards are saved in {output_directory}')\n",
    "                                "
   ]
  },
  {
   "cell_type": "code",
   "execution_count": null,
   "id": "877c6618",
   "metadata": {},
   "outputs": [],
   "source": []
  },
  {
   "cell_type": "code",
   "execution_count": null,
   "id": "60b8f1f5",
   "metadata": {},
   "outputs": [],
   "source": []
  },
  {
   "cell_type": "code",
   "execution_count": null,
   "id": "df8383cb",
   "metadata": {},
   "outputs": [],
   "source": []
  },
  {
   "cell_type": "code",
   "execution_count": null,
   "id": "38405023",
   "metadata": {},
   "outputs": [],
   "source": []
  },
  {
   "cell_type": "code",
   "execution_count": null,
   "id": "0178cb27",
   "metadata": {},
   "outputs": [],
   "source": []
  },
  {
   "cell_type": "code",
   "execution_count": null,
   "id": "764c2885",
   "metadata": {},
   "outputs": [],
   "source": []
  },
  {
   "cell_type": "code",
   "execution_count": null,
   "id": "8c26869c",
   "metadata": {},
   "outputs": [],
   "source": []
  },
  {
   "cell_type": "code",
   "execution_count": null,
   "id": "f3e883e4",
   "metadata": {},
   "outputs": [],
   "source": []
  },
  {
   "cell_type": "code",
   "execution_count": null,
   "id": "6044138c",
   "metadata": {},
   "outputs": [],
   "source": []
  },
  {
   "cell_type": "code",
   "execution_count": null,
   "id": "f1a45d9c",
   "metadata": {},
   "outputs": [],
   "source": []
  },
  {
   "cell_type": "code",
   "execution_count": null,
   "id": "5f059765",
   "metadata": {},
   "outputs": [],
   "source": []
  }
 ],
 "metadata": {
  "kernelspec": {
   "display_name": "Python 3 (ipykernel)",
   "language": "python",
   "name": "python3"
  },
  "language_info": {
   "codemirror_mode": {
    "name": "ipython",
    "version": 3
   },
   "file_extension": ".py",
   "mimetype": "text/x-python",
   "name": "python",
   "nbconvert_exporter": "python",
   "pygments_lexer": "ipython3",
   "version": "3.10.12"
  }
 },
 "nbformat": 4,
 "nbformat_minor": 5
}
