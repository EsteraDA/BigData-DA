{
 "cells": [
  {
   "cell_type": "code",
   "execution_count": 1,
   "id": "72362d07",
   "metadata": {},
   "outputs": [],
   "source": [
    "# loading libraries\n",
    "import os\n",
    "import cv2  \n",
    "import numpy as np"
   ]
  },
  {
   "cell_type": "code",
   "execution_count": 2,
   "id": "93b77a08",
   "metadata": {},
   "outputs": [],
   "source": [
    "# defining the directory where images are located\n",
    "image_directory = '/home/hduser/Desktop/BANANAS'"
   ]
  },
  {
   "cell_type": "code",
   "execution_count": 3,
   "id": "76868179",
   "metadata": {},
   "outputs": [],
   "source": [
    "# defining the target image size\n",
    "target_image_size = (128, 128)"
   ]
  },
  {
   "cell_type": "code",
   "execution_count": 4,
   "id": "4c6a8337",
   "metadata": {},
   "outputs": [
    {
     "name": "stdout",
     "output_type": "stream",
     "text": [
      "Images shape: (297, 128, 128, 3)\n",
      "Labels shape: (297,)\n"
     ]
    }
   ],
   "source": [
    "# creating a function to load, resize, normalize, and assign labels to images\n",
    "def load_resize_normalize_image(image_path, target_size):\n",
    "    \n",
    "    image = cv2.imread(os.path.join(image_directory, image_path + '.jpg'))\n",
    "\n",
    "    # checking if the image was loaded successfully\n",
    "    if image is None:\n",
    "        print(f\"Failed to load image: {image_path}\")\n",
    "        return None, None\n",
    "\n",
    "    # resize the image to the target size\n",
    "    resized_image = cv2.resize(image, target_size)\n",
    "\n",
    "    # normalising the image by dividing it by 255.0 to scale pixel values to [0, 1]\n",
    "    normalized_image = resized_image / 255.0\n",
    "\n",
    "    # assigning labels based on their names\n",
    "    if image_path.startswith('g'):\n",
    "        label = 0\n",
    "    elif image_path.startswith('R'):\n",
    "        label = 1\n",
    "    elif image_path.startswith('Y'):\n",
    "        label = 2\n",
    "    else:\n",
    "        label = 99\n",
    "\n",
    "    return normalized_image, label\n",
    "\n",
    "# creating lists to store ready images and labels\n",
    "images = []\n",
    "labels = []\n",
    "\n",
    "# looping through image files and preprocess them\n",
    "for image_filename in os.listdir(image_directory):\n",
    "    if image_filename.endswith('.jpg'):\n",
    "        image_path = os.path.splitext(image_filename)[0] \n",
    "        normalized_image, label = load_resize_normalize_image(image_path, target_image_size)\n",
    "        \n",
    "        if normalized_image is not None and label is not None:\n",
    "            images.append(normalized_image)\n",
    "            labels.append(label)\n",
    "\n",
    "# converting lists to NumPy arrays for further processing\n",
    "images = np.array(images)\n",
    "labels = np.array(labels)\n",
    "\n",
    "# printing the shapes of the loaded images and labels\n",
    "print(\"Images shape:\", images.shape)\n",
    "print(\"Labels shape:\", labels.shape)"
   ]
  },
  {
   "cell_type": "code",
   "execution_count": 5,
   "id": "7f5f6c59",
   "metadata": {},
   "outputs": [
    {
     "data": {
      "text/plain": [
       "array([2, 0, 1, 0, 1, 2, 2, 0, 0, 1, 1, 1, 0, 1, 0, 0, 0, 0, 1, 2, 2, 2,\n",
       "       2, 2, 0, 2, 1, 0, 1, 0, 1, 0, 1, 0, 1, 1, 2, 0, 0, 2, 1, 0, 1, 2,\n",
       "       0, 2, 2, 0, 2, 0, 1, 1, 2, 0, 0, 0, 1, 1, 1, 0, 1, 1, 1, 2, 1, 0,\n",
       "       2, 2, 2, 2, 1, 1, 0, 0, 2, 1, 1, 2, 1, 2, 0, 2, 0, 2, 0, 1, 2, 2,\n",
       "       0, 0, 0, 1, 2, 0, 2, 0, 1, 1, 0, 2, 2, 1, 2, 0, 0, 1, 1, 2, 1, 2,\n",
       "       0, 1, 0, 1, 1, 1, 2, 1, 2, 2, 2, 1, 0, 0, 0, 1, 2, 0, 2, 1, 1, 1,\n",
       "       2, 0, 0, 2, 2, 0, 0, 1, 1, 2, 2, 1, 1, 0, 1, 2, 2, 0, 2, 2, 1, 0,\n",
       "       1, 2, 1, 2, 1, 0, 0, 1, 1, 2, 0, 1, 2, 1, 1, 2, 1, 1, 0, 0, 0, 1,\n",
       "       0, 0, 0, 2, 0, 0, 0, 0, 2, 1, 2, 2, 2, 0, 1, 0, 2, 1, 1, 2, 0, 2,\n",
       "       0, 1, 1, 0, 2, 1, 1, 2, 2, 0, 2, 1, 0, 0, 2, 1, 1, 1, 2, 2, 2, 0,\n",
       "       1, 0, 2, 1, 1, 1, 2, 2, 0, 1, 0, 2, 2, 2, 2, 0, 2, 1, 2, 1, 0, 0,\n",
       "       0, 2, 1, 0, 2, 2, 2, 0, 1, 2, 0, 1, 1, 0, 1, 2, 1, 1, 0, 0, 0, 2,\n",
       "       2, 0, 1, 0, 0, 2, 1, 1, 2, 2, 0, 0, 0, 1, 0, 2, 1, 0, 1, 2, 1, 1,\n",
       "       2, 2, 0, 0, 2, 2, 1, 0, 2, 2, 0])"
      ]
     },
     "execution_count": 5,
     "metadata": {},
     "output_type": "execute_result"
    }
   ],
   "source": [
    "labels"
   ]
  },
  {
   "cell_type": "code",
   "execution_count": 6,
   "id": "1c785765",
   "metadata": {},
   "outputs": [],
   "source": [
    "# splitting the data into 4 shards\n",
    "num_shards = 4\n",
    "shard_size = len(images) // num_shards"
   ]
  },
  {
   "cell_type": "code",
   "execution_count": 7,
   "id": "00182765",
   "metadata": {},
   "outputs": [
    {
     "name": "stdout",
     "output_type": "stream",
     "text": [
      "Shard 1: Images shape: (74, 128, 128, 3), Labels shape: (74,)\n",
      "Shard 2: Images shape: (74, 128, 128, 3), Labels shape: (74,)\n",
      "Shard 3: Images shape: (74, 128, 128, 3), Labels shape: (74,)\n",
      "Shard 4: Images shape: (74, 128, 128, 3), Labels shape: (74,)\n"
     ]
    }
   ],
   "source": [
    "# creating lists to store shards images and labels\n",
    "shards_images = []\n",
    "shards_labels = []\n",
    "\n",
    "for i in range(num_shards):\n",
    "    start_idx = i * shard_size\n",
    "    end_idx = (i + 1) * shard_size\n",
    "\n",
    "    # extracting a shard of images and labels\n",
    "    shard_images = images[start_idx:end_idx]\n",
    "    shard_labels = labels[start_idx:end_idx]\n",
    "\n",
    "    # appending the shard to the lists\n",
    "    shards_images.append(shard_images)\n",
    "    shards_labels.append(shard_labels)\n",
    "\n",
    "# veryfing the sizes of the shards\n",
    "for i, shard_images in enumerate(shards_images):\n",
    "    print(f\"Shard {i + 1}: Images shape: {shard_images.shape}, Labels shape: {shards_labels[i].shape}\")"
   ]
  },
  {
   "cell_type": "code",
   "execution_count": null,
   "id": "f81d44c8",
   "metadata": {},
   "outputs": [],
   "source": []
  },
  {
   "cell_type": "markdown",
   "id": "34eb3eca",
   "metadata": {},
   "source": [
    "# CNN"
   ]
  },
  {
   "cell_type": "code",
   "execution_count": 8,
   "id": "513f0ee1",
   "metadata": {},
   "outputs": [
    {
     "name": "stderr",
     "output_type": "stream",
     "text": [
      "2023-09-20 22:22:59.582042: I tensorflow/tsl/cuda/cudart_stub.cc:28] Could not find cuda drivers on your machine, GPU will not be used.\n",
      "2023-09-20 22:23:00.134233: I tensorflow/tsl/cuda/cudart_stub.cc:28] Could not find cuda drivers on your machine, GPU will not be used.\n",
      "2023-09-20 22:23:00.135858: I tensorflow/core/platform/cpu_feature_guard.cc:182] This TensorFlow binary is optimized to use available CPU instructions in performance-critical operations.\n",
      "To enable the following instructions: AVX2, in other operations, rebuild TensorFlow with the appropriate compiler flags.\n",
      "2023-09-20 22:23:01.946042: W tensorflow/compiler/tf2tensorrt/utils/py_utils.cc:38] TF-TRT Warning: Could not find TensorRT\n"
     ]
    }
   ],
   "source": [
    "# importing libraries\n",
    "import tensorflow as tf\n",
    "from tensorflow.keras.models import Sequential\n",
    "from tensorflow.keras.layers import Conv2D, MaxPooling2D, Flatten, Dense\n",
    "import multiprocessing"
   ]
  },
  {
   "cell_type": "code",
   "execution_count": 9,
   "id": "40aa8e12",
   "metadata": {},
   "outputs": [],
   "source": [
    "# defining a CNN model\n",
    "def cnn_model():\n",
    "    model = Sequential()\n",
    "    model.add(Conv2D(32, (3, 3), activation='relu', input_shape=(128, 128, 3)))\n",
    "    model.add(MaxPooling2D((2, 2)))\n",
    "    model.add(Flatten())\n",
    "    model.add(Dense(64, activation='relu'))\n",
    "    model.add(Dense(3, activation='softmax')) \n",
    "    return model\n"
   ]
  },
  {
   "cell_type": "code",
   "execution_count": 10,
   "id": "406109f3",
   "metadata": {},
   "outputs": [],
   "source": [
    "# defining a function to train and evaluate the model on a shard\n",
    "def process_shard(shard_images, shard_labels):\n",
    "    \n",
    "    model = cnn_model()\n",
    "    model.compile(optimizer='adam', loss='sparse_categorical_crossentropy', metrics=['accuracy'])\n",
    "\n",
    "    # training the model on the shard\n",
    "    model.fit(shard_images, shard_labels, epochs=5, batch_size=32) \n",
    "    \n",
    "    # fvaluating the model on the shard\n",
    "    loss, accuracy = model.evaluate(shard_images, shard_labels)\n",
    "\n",
    "    return loss, accuracy"
   ]
  },
  {
   "cell_type": "code",
   "execution_count": 11,
   "id": "a22e32fd",
   "metadata": {},
   "outputs": [
    {
     "name": "stdout",
     "output_type": "stream",
     "text": [
      "Epoch 1/5\n",
      "Epoch 1/5\n",
      "3/3 [==============================] - 1s 257ms/step - loss: 7.3671 - accuracy: 0.3378\n",
      "Epoch 2/5\n",
      "3/3 [==============================] - 1s 241ms/step - loss: 12.6860 - accuracy: 0.3514\n",
      "Epoch 2/5\n",
      "3/3 [==============================] - 1s 221ms/step - loss: 3.9921 - accuracy: 0.3919\n",
      "2/3 [===================>..........] - ETA: 0s - loss: 4.6206 - accuracy: 0.2969Epoch 3/5\n",
      "3/3 [==============================] - 1s 255ms/step - loss: 4.9240 - accuracy: 0.2973\n",
      "Epoch 3/5\n",
      "3/3 [==============================] - 1s 207ms/step - loss: 6.2121 - accuracy: 0.3919\n",
      "Epoch 4/5\n",
      "3/3 [==============================] - 1s 283ms/step - loss: 1.6462 - accuracy: 0.4730\n",
      "Epoch 4/5\n",
      "3/3 [==============================] - 1s 243ms/step - loss: 2.8240 - accuracy: 0.5541\n",
      "Epoch 5/5\n",
      "3/3 [==============================] - 1s 268ms/step - loss: 0.7735 - accuracy: 0.6216\n",
      "Epoch 5/5\n",
      "3/3 [==============================] - 1s 221ms/step - loss: 1.2926 - accuracy: 0.5541\n",
      "3/3 [==============================] - 1s 228ms/step - loss: 0.7818 - accuracy: 0.6486\n",
      "3/3 [==============================] - 0s 43ms/step - loss: 1.2375 - accuracy: 0.6486\n",
      "3/3 [==============================] - 0s 39ms/step - loss: 0.6483 - accuracy: 0.7432\n"
     ]
    }
   ],
   "source": [
    "# creating a multiprocessing pool with 2 CPUs\n",
    "num_cpus = 2\n",
    "with multiprocessing.Pool(processes=num_cpus) as pool:\n",
    "    results = pool.starmap(process_shard, zip(shards_images[:2], shards_labels[:2]))\n"
   ]
  },
  {
   "cell_type": "code",
   "execution_count": 12,
   "id": "4f1ed422",
   "metadata": {},
   "outputs": [
    {
     "name": "stdout",
     "output_type": "stream",
     "text": [
      "Epoch 1/5\n",
      "Epoch 1/5\n",
      "3/3 [==============================] - 1s 209ms/step - loss: 3.3105 - accuracy: 0.3784\n",
      "Epoch 2/5\n",
      "3/3 [==============================] - 2s 239ms/step - loss: 8.9735 - accuracy: 0.2568\n",
      "Epoch 2/5\n",
      "3/3 [==============================] - 1s 217ms/step - loss: 1.6269 - accuracy: 0.5946\n",
      "Epoch 3/5\n",
      "3/3 [==============================] - 1s 224ms/step - loss: 6.3792 - accuracy: 0.3108\n",
      "Epoch 3/5\n",
      "3/3 [==============================] - 1s 254ms/step - loss: 0.9695 - accuracy: 0.6757\n",
      "Epoch 4/5\n",
      "3/3 [==============================] - 1s 241ms/step - loss: 3.8264 - accuracy: 0.3108\n",
      "Epoch 4/5\n",
      "3/3 [==============================] - 1s 243ms/step - loss: 0.7040 - accuracy: 0.6892\n",
      "Epoch 5/5\n",
      "3/3 [==============================] - 1s 273ms/step - loss: 1.7789 - accuracy: 0.4324\n",
      "Epoch 5/5\n",
      "3/3 [==============================] - 1s 208ms/step - loss: 0.3434 - accuracy: 0.8919\n",
      "3/3 [==============================] - 1s 149ms/step - loss: 0.9341 - accuracy: 0.6216\n",
      "3/3 [==============================] - 0s 44ms/step - loss: 0.4090 - accuracy: 0.8108\n",
      "3/3 [==============================] - 0s 45ms/step - loss: 0.4580 - accuracy: 0.7973\n",
      "Epoch 1/5\n",
      "Epoch 1/5\n",
      "3/3 [==============================] - 1s 195ms/step - loss: 7.0694 - accuracy: 0.4054\n",
      "Epoch 2/5\n",
      "3/3 [==============================] - 1s 251ms/step - loss: 14.9512 - accuracy: 0.3108\n",
      "Epoch 2/5\n",
      "3/3 [==============================] - 1s 253ms/step - loss: 3.0825 - accuracy: 0.4189\n",
      "Epoch 3/5\n",
      "3/3 [==============================] - 1s 236ms/step - loss: 11.9473 - accuracy: 0.3649\n",
      "Epoch 3/5\n",
      "3/3 [==============================] - 1s 242ms/step - loss: 2.0879 - accuracy: 0.5135\n",
      "Epoch 4/5\n",
      "3/3 [==============================] - 1s 224ms/step - loss: 5.4357 - accuracy: 0.3378\n",
      "Epoch 4/5\n",
      "3/3 [==============================] - 1s 245ms/step - loss: 0.8747 - accuracy: 0.5270\n",
      "Epoch 5/5\n",
      "3/3 [==============================] - 1s 270ms/step - loss: 3.6935 - accuracy: 0.5676\n",
      "Epoch 5/5\n",
      "3/3 [==============================] - 1s 252ms/step - loss: 0.7940 - accuracy: 0.5541\n",
      "3/3 [==============================] - 1s 164ms/step - loss: 2.5016 - accuracy: 0.5541\n",
      "3/3 [==============================] - 0s 45ms/step - loss: 0.6974 - accuracy: 0.6351\n",
      "3/3 [==============================] - 0s 37ms/step - loss: 2.7394 - accuracy: 0.4865\n"
     ]
    }
   ],
   "source": [
    " #create a multiprocessing pool with 2 CPUs - 4 shards\n",
    "num_cpus = 2\n",
    "with multiprocessing.Pool(processes=num_cpus) as pool:\n",
    "    results = pool.starmap(process_shard, zip(shards_images[:4], shards_labels[:4]))\n"
   ]
  },
  {
   "cell_type": "code",
   "execution_count": 13,
   "id": "d867d9d9",
   "metadata": {},
   "outputs": [
    {
     "name": "stdout",
     "output_type": "stream",
     "text": [
      "Epoch 1/5\n",
      "Epoch 1/5\n",
      "Epoch 1/5\n",
      "Epoch 1/5\n",
      "3/3 [==============================] - 2s 310ms/step - loss: 7.7715 - accuracy: 0.3243\n",
      "Epoch 2/5\n",
      "3/3 [==============================] - 2s 438ms/step - loss: 8.0126 - accuracy: 0.2568\n",
      "Epoch 2/5\n",
      "3/3 [==============================] - 2s 554ms/step - loss: 3.7089 - accuracy: 0.4865\n",
      "Epoch 3/5\n",
      "3/3 [==============================] - 3s 512ms/step - loss: 7.4640 - accuracy: 0.3649\n",
      "Epoch 2/5\n",
      "3/3 [==============================] - 2s 496ms/step - loss: 13.9176 - accuracy: 0.3243\n",
      "Epoch 3/5\n",
      "3/3 [==============================] - 2s 443ms/step - loss: 3.8615 - accuracy: 0.5270\n",
      "3/3 [==============================] - 5s 504ms/step - loss: 10.7754 - accuracy: 0.3919\n",
      "Epoch 4/5\n",
      "Epoch 2/5\n",
      "3/3 [==============================] - 2s 457ms/step - loss: 7.1307 - accuracy: 0.4459\n",
      "Epoch 3/5\n",
      "3/3 [==============================] - 2s 603ms/step - loss: 4.9938 - accuracy: 0.3649\n",
      "Epoch 4/5\n",
      "3/3 [==============================] - 2s 508ms/step - loss: 3.5233 - accuracy: 0.3919\n",
      "3/3 [==============================] - 2s 428ms/step - loss: 1.6610 - accuracy: 0.4865\n",
      "Epoch 5/5\n",
      "Epoch 3/5\n",
      "3/3 [==============================] - 2s 447ms/step - loss: 4.7247 - accuracy: 0.2838\n",
      "Epoch 4/5\n",
      "3/3 [==============================] - 2s 614ms/step - loss: 3.3828 - accuracy: 0.4865\n",
      "Epoch 5/5\n",
      "3/3 [==============================] - 2s 480ms/step - loss: 0.7362 - accuracy: 0.7703\n",
      "3/3 [==============================] - 2s 536ms/step - loss: 2.3538 - accuracy: 0.5541\n",
      "3/3 [==============================] - 2s 482ms/step - loss: 2.2464 - accuracy: 0.5000\n",
      "Epoch 5/5\n",
      "Epoch 4/5\n",
      "3/3 [==============================] - 1s 444ms/step - loss: 1.8787 - accuracy: 0.5270\n",
      "3/3 [==============================] - 1s 104ms/step - loss: 0.8946 - accuracy: 0.7297\n",
      "3/3 [==============================] - 1s 334ms/step - loss: 1.7827 - accuracy: 0.5270\n",
      "3/3 [==============================] - 1s 334ms/step - loss: 2.1798 - accuracy: 0.4459\n",
      "Epoch 5/5\n",
      "3/3 [==============================] - 1s 79ms/step - loss: 1.0636 - accuracy: 0.6216\n",
      "3/3 [==============================] - 0s 62ms/step - loss: 0.8567 - accuracy: 0.6486\n",
      "3/3 [==============================] - 1s 210ms/step - loss: 0.7187 - accuracy: 0.6757\n",
      "3/3 [==============================] - 0s 32ms/step - loss: 1.1289 - accuracy: 0.5811\n"
     ]
    }
   ],
   "source": [
    "# create a multiprocessing pool with 4 CPUs -4shards\n",
    "num_cpus = 4\n",
    "with multiprocessing.Pool(processes=num_cpus) as pool:\n",
    "    results = pool.starmap(process_shard, zip(shards_images[:4], shards_labels[:4]))\n"
   ]
  },
  {
   "cell_type": "code",
   "execution_count": null,
   "id": "0537bf98",
   "metadata": {},
   "outputs": [],
   "source": []
  }
 ],
 "metadata": {
  "kernelspec": {
   "display_name": "Python 3 (ipykernel)",
   "language": "python",
   "name": "python3"
  },
  "language_info": {
   "codemirror_mode": {
    "name": "ipython",
    "version": 3
   },
   "file_extension": ".py",
   "mimetype": "text/x-python",
   "name": "python",
   "nbconvert_exporter": "python",
   "pygments_lexer": "ipython3",
   "version": "3.10.12"
  }
 },
 "nbformat": 4,
 "nbformat_minor": 5
}
