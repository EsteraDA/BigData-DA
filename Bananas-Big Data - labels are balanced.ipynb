{
 "cells": [
  {
   "cell_type": "code",
   "execution_count": 1,
   "id": "72362d07",
   "metadata": {},
   "outputs": [],
   "source": [
    "# loading libraries\n",
    "import os\n",
    "import cv2  \n",
    "import numpy as np"
   ]
  },
  {
   "cell_type": "code",
   "execution_count": 2,
   "id": "93b77a08",
   "metadata": {},
   "outputs": [],
   "source": [
    "# defining the directory where images are located\n",
    "image_directory = '/home/hduser/Bananas'"
   ]
  },
  {
   "cell_type": "code",
   "execution_count": 3,
   "id": "76868179",
   "metadata": {},
   "outputs": [],
   "source": [
    "# defining the target image size\n",
    "target_image_size = (128, 128)"
   ]
  },
  {
   "cell_type": "code",
   "execution_count": 4,
   "id": "4c6a8337",
   "metadata": {},
   "outputs": [
    {
     "name": "stdout",
     "output_type": "stream",
     "text": [
      "Images shape: (300, 128, 128, 3)\n",
      "Labels shape: (300,)\n"
     ]
    }
   ],
   "source": [
    "# creating a function to load, resize, normalize, and assign labels to images\n",
    "def load_resize_normalize_image(image_path, target_size):\n",
    "    \n",
    "    image = cv2.imread(os.path.join(image_directory, image_path + '.jpg'))\n",
    "\n",
    "    # checking if the image was loaded successfully\n",
    "    if image is None:\n",
    "        print(f\"Failed to load image: {image_path}\")\n",
    "        return None, None\n",
    "\n",
    "    # resize the image to the target size\n",
    "    resized_image = cv2.resize(image, target_size)\n",
    "\n",
    "    # normalising the image by dividing it by 255.0 to scale pixel values to [0, 1]\n",
    "    normalized_image = resized_image / 255.0\n",
    "\n",
    "    # assigning labels based on their names\n",
    "    if image_path.startswith('g'):\n",
    "        label = 0\n",
    "    elif image_path.startswith('R'):\n",
    "        label = 1\n",
    "    elif image_path.startswith('Y'):\n",
    "        label = 2\n",
    "    else:\n",
    "        label = 99\n",
    "\n",
    "    return normalized_image, label\n",
    "\n",
    "# creating lists to store ready images and labels\n",
    "images = []\n",
    "labels = []\n",
    "\n",
    "# looping through image files and preprocess them\n",
    "for image_filename in os.listdir(image_directory):\n",
    "    if image_filename.endswith('.jpg'):\n",
    "        image_path = os.path.splitext(image_filename)[0] \n",
    "        normalized_image, label = load_resize_normalize_image(image_path, target_image_size)\n",
    "        \n",
    "        if normalized_image is not None and label is not None:\n",
    "            images.append(normalized_image)\n",
    "            labels.append(label)\n",
    "\n",
    "# converting lists to NumPy arrays for further processing\n",
    "images = np.array(images)\n",
    "labels = np.array(labels)\n",
    "\n",
    "# printing the shapes of the loaded images and labels\n",
    "print(\"Images shape:\", images.shape)\n",
    "print(\"Labels shape:\", labels.shape)"
   ]
  },
  {
   "cell_type": "code",
   "execution_count": 5,
   "id": "7f5f6c59",
   "metadata": {},
   "outputs": [
    {
     "data": {
      "text/plain": [
       "array([2, 0, 1, 0, 1, 2, 2, 2, 0, 0, 0, 1, 1, 1, 0, 1, 0, 0, 0, 0, 1, 2,\n",
       "       2, 2, 2, 2, 0, 2, 1, 0, 1, 0, 1, 0, 1, 0, 1, 1, 2, 0, 0, 2, 1, 0,\n",
       "       1, 2, 0, 2, 2, 0, 2, 0, 1, 1, 2, 0, 0, 0, 1, 1, 1, 0, 1, 1, 1, 2,\n",
       "       1, 0, 2, 2, 2, 2, 1, 1, 0, 0, 2, 1, 1, 2, 1, 2, 0, 2, 0, 2, 0, 1,\n",
       "       2, 2, 0, 0, 0, 1, 2, 0, 2, 0, 1, 1, 0, 2, 2, 1, 2, 0, 0, 1, 1, 2,\n",
       "       1, 2, 0, 1, 0, 1, 1, 1, 2, 1, 2, 2, 2, 1, 0, 0, 0, 1, 2, 0, 2, 1,\n",
       "       1, 1, 2, 0, 0, 2, 2, 0, 0, 1, 1, 2, 2, 1, 1, 0, 1, 2, 2, 0, 2, 2,\n",
       "       1, 0, 1, 2, 1, 2, 1, 0, 0, 1, 1, 2, 0, 1, 2, 1, 1, 2, 1, 1, 0, 0,\n",
       "       0, 1, 0, 0, 0, 2, 0, 0, 0, 0, 2, 1, 2, 2, 2, 0, 1, 0, 2, 1, 1, 2,\n",
       "       0, 2, 0, 1, 1, 0, 2, 1, 1, 2, 2, 0, 2, 1, 0, 0, 2, 1, 1, 1, 2, 2,\n",
       "       2, 0, 1, 0, 2, 1, 1, 1, 2, 2, 0, 1, 0, 2, 2, 2, 2, 0, 2, 1, 2, 1,\n",
       "       0, 0, 0, 2, 1, 0, 2, 2, 2, 0, 1, 2, 0, 1, 1, 0, 1, 2, 1, 1, 0, 1,\n",
       "       0, 0, 2, 2, 0, 1, 0, 0, 2, 1, 1, 2, 2, 0, 0, 0, 1, 0, 2, 1, 0, 1,\n",
       "       2, 1, 1, 2, 2, 0, 0, 2, 2, 1, 0, 2, 2, 0])"
      ]
     },
     "execution_count": 5,
     "metadata": {},
     "output_type": "execute_result"
    }
   ],
   "source": [
    "labels"
   ]
  },
  {
   "cell_type": "code",
   "execution_count": 6,
   "id": "1c785765",
   "metadata": {},
   "outputs": [],
   "source": [
    "# splitting the data into 4 shards\n",
    "num_shards = 4\n",
    "shard_size = len(images) // num_shards"
   ]
  },
  {
   "cell_type": "code",
   "execution_count": 8,
   "id": "00182765",
   "metadata": {},
   "outputs": [
    {
     "name": "stdout",
     "output_type": "stream",
     "text": [
      "Shard 1: Images shape: (75, 128, 128, 3), Labels shape: (75,)\n",
      "Label Counts in Shard 1: {0: 25, 1: 25, 2: 25}\n",
      "Shard 2: Images shape: (75, 128, 128, 3), Labels shape: (75,)\n",
      "Label Counts in Shard 2: {0: 25, 1: 25, 2: 25}\n",
      "Shard 3: Images shape: (75, 128, 128, 3), Labels shape: (75,)\n",
      "Label Counts in Shard 3: {0: 25, 1: 25, 2: 25}\n",
      "Shard 4: Images shape: (75, 128, 128, 3), Labels shape: (75,)\n",
      "Label Counts in Shard 4: {0: 25, 1: 25, 2: 25}\n"
     ]
    }
   ],
   "source": [
    "# Creating lists to store shards images and labels\n",
    "shards_images = []\n",
    "shards_labels = []\n",
    "\n",
    "num_labels = len(np.unique(labels))\n",
    "\n",
    "shards_label_counts = []  \n",
    "\n",
    "for i in range(num_shards):\n",
    "    shard_images = []\n",
    "    shard_labels = []\n",
    "\n",
    "    for label in range(num_labels):\n",
    "        start_idx = i\n",
    "        end_idx = len(images)\n",
    "        step = num_shards\n",
    "\n",
    "        # Extracting a shard of images and labels for the current label\n",
    "        shard_images.extend(images[labels == label][start_idx:end_idx:step])\n",
    "        shard_labels.extend(labels[labels == label][start_idx:end_idx:step])\n",
    "\n",
    "    # Counting the labels in the shard\n",
    "    unique_labels, label_counts = np.unique(shard_labels, return_counts=True)\n",
    "\n",
    "    # Appending the shard to the lists\n",
    "    shards_images.append(np.array(shard_images))\n",
    "    shards_labels.append(np.array(shard_labels))\n",
    "    shards_label_counts.append(dict(zip(unique_labels, label_counts)))\n",
    "\n",
    "# Verifying the sizes and label counts of the shards\n",
    "for i, shard_images in enumerate(shards_images):\n",
    "    shard_label_count = shards_label_counts[i]\n",
    "    print(f\"Shard {i + 1}: Images shape: {shard_images.shape}, Labels shape: {shards_labels[i].shape}\")\n",
    "    print(f\"Label Counts in Shard {i + 1}: {shard_label_count}\")"
   ]
  },
  {
   "cell_type": "markdown",
   "id": "34eb3eca",
   "metadata": {},
   "source": [
    "# CNN"
   ]
  },
  {
   "cell_type": "code",
   "execution_count": 9,
   "id": "513f0ee1",
   "metadata": {},
   "outputs": [
    {
     "name": "stderr",
     "output_type": "stream",
     "text": [
      "2023-09-24 14:54:32.623124: I tensorflow/tsl/cuda/cudart_stub.cc:28] Could not find cuda drivers on your machine, GPU will not be used.\n",
      "2023-09-24 14:54:32.650843: I tensorflow/tsl/cuda/cudart_stub.cc:28] Could not find cuda drivers on your machine, GPU will not be used.\n",
      "2023-09-24 14:54:32.651339: I tensorflow/core/platform/cpu_feature_guard.cc:182] This TensorFlow binary is optimized to use available CPU instructions in performance-critical operations.\n",
      "To enable the following instructions: AVX2, in other operations, rebuild TensorFlow with the appropriate compiler flags.\n",
      "2023-09-24 14:54:33.203951: W tensorflow/compiler/tf2tensorrt/utils/py_utils.cc:38] TF-TRT Warning: Could not find TensorRT\n"
     ]
    }
   ],
   "source": [
    "# importing libraries\n",
    "import tensorflow as tf\n",
    "from tensorflow.keras.models import Sequential\n",
    "from tensorflow.keras.layers import Conv2D, MaxPooling2D, Flatten, Dense\n",
    "import multiprocessing\n",
    "import matplotlib.pyplot as plt\n",
    "from sklearn.model_selection import train_test_split"
   ]
  },
  {
   "cell_type": "code",
   "execution_count": 10,
   "id": "40aa8e12",
   "metadata": {},
   "outputs": [],
   "source": [
    "# defining a CNN model\n",
    "def cnn_model():\n",
    "    model = Sequential()\n",
    "    model.add(Conv2D(32, (3, 3), activation='relu', input_shape=(128, 128, 3)))\n",
    "    model.add(MaxPooling2D((2, 2)))\n",
    "    model.add(Flatten())\n",
    "    model.add(Dense(64, activation='relu'))\n",
    "    model.add(Dense(3, activation='softmax')) \n",
    "    return model\n"
   ]
  },
  {
   "cell_type": "code",
   "execution_count": 11,
   "id": "406109f3",
   "metadata": {},
   "outputs": [],
   "source": [
    "# defining a function to train and evaluate the model on a shard\n",
    "def process_shard(shard_images, shard_labels):\n",
    "    \n",
    "    model = cnn_model()\n",
    "    model.compile(optimizer='adam', loss='sparse_categorical_crossentropy', metrics=['accuracy'])\n",
    "\n",
    "    # training the model on the shard\n",
    "    model.fit(shard_images, shard_labels, epochs=5, batch_size=32) \n",
    "    \n",
    "    # fvaluating the model on the shard\n",
    "    loss, accuracy = model.evaluate(shard_images, shard_labels)\n",
    "\n",
    "    return loss, accuracy"
   ]
  },
  {
   "cell_type": "code",
   "execution_count": 12,
   "id": "0537bf98",
   "metadata": {},
   "outputs": [],
   "source": [
    "# Define a function to split data into train, validation, and test sets\n",
    "def split_data(images, labels, test_size=0.2, validation_size=0.2):\n",
    "    # Split data into train and test sets\n",
    "    images_train, images_test, labels_train, labels_test = train_test_split(images, labels, test_size=test_size, random_state=42)\n",
    "    \n",
    "    # Split train set into train and validation sets\n",
    "    images_train, images_validation, labels_train, labels_validation = train_test_split(images_train, labels_train, test_size=validation_size, random_state=42)\n",
    "    \n",
    "    return images_train, labels_train, images_validation, labels_validation, images_test, labels_test\n"
   ]
  },
  {
   "cell_type": "code",
   "execution_count": 13,
   "id": "e5edf729",
   "metadata": {},
   "outputs": [],
   "source": [
    "\n",
    "# Split data into train, validation, and test sets for each shard\n",
    "shards_train_images, shards_train_labels, shards_validation_images, shards_validation_labels, shards_test_images, shards_test_labels = [], [], [], [], [], []\n"
   ]
  },
  {
   "cell_type": "code",
   "execution_count": 14,
   "id": "98680195",
   "metadata": {},
   "outputs": [],
   "source": [
    "for i in range(num_shards):\n",
    "    shard_images_train, shard_labels_train, shard_images_validation, shard_labels_validation, shard_images_test, shard_labels_test = split_data(shards_images[i], shards_labels[i])\n",
    "    \n",
    "    shards_train_images.append(shard_images_train)\n",
    "    shards_train_labels.append(shard_labels_train)\n",
    "    shards_validation_images.append(shard_images_validation)\n",
    "    shards_validation_labels.append(shard_labels_validation)\n",
    "    shards_test_images.append(shard_images_test)\n",
    "    shards_test_labels.append(shard_labels_test)\n"
   ]
  },
  {
   "cell_type": "code",
   "execution_count": 15,
   "id": "714d93c3",
   "metadata": {},
   "outputs": [],
   "source": [
    "# Define a CNN model\n",
    "def cnn_model():\n",
    "    model = Sequential()\n",
    "    model.add(Conv2D(32, (3, 3), activation='relu', input_shape=(128, 128, 3)))\n",
    "    model.add(MaxPooling2D((2, 2)))\n",
    "    model.add(Flatten())\n",
    "    model.add(Dense(64, activation='relu'))\n",
    "    model.add(Dense(3, activation='softmax')) \n",
    "    return model\n"
   ]
  },
  {
   "cell_type": "code",
   "execution_count": 16,
   "id": "91082004",
   "metadata": {},
   "outputs": [],
   "source": [
    "# Define a function to train and evaluate the model\n",
    "def train_and_evaluate_model(args):\n",
    "    images_train, labels_train, images_validation, labels_validation, images_test, labels_test = args\n",
    "    \n",
    "    model = cnn_model()\n",
    "    model.compile(optimizer='adam', loss='sparse_categorical_crossentropy', metrics=['accuracy'])\n",
    "\n",
    "    # Training the model\n",
    "    history = model.fit(images_train, labels_train, validation_data=(images_validation, labels_validation), epochs=5, batch_size=32, verbose=0)\n",
    "\n",
    "    # Evaluating the model\n",
    "    loss, accuracy = model.evaluate(images_test, labels_test)\n",
    "\n",
    "    return loss, accuracy, history"
   ]
  },
  {
   "cell_type": "code",
   "execution_count": 17,
   "id": "10deacb7",
   "metadata": {},
   "outputs": [
    {
     "name": "stdout",
     "output_type": "stream",
     "text": [
      "1/1 [==============================] - 0s 49ms/step - loss: 1.6234 - accuracy: 0.3333\n",
      "1/1 [==============================] - 0s 77ms/step - loss: 0.8057 - accuracy: 0.6667\n",
      "1/1 [==============================] - 0s 166ms/step - loss: 0.9597 - accuracy: 0.5333\n",
      "1/1 [==============================] - 0s 47ms/step - loss: 1.1429 - accuracy: 0.4667\n",
      "Total Execution Time: 11.045759677886963 seconds\n"
     ]
    }
   ],
   "source": [
    "import time\n",
    "\n",
    "# Store the start time\n",
    "start_time = time.time()\n",
    "\n",
    "# Creating a multiprocessing pool with 4 CPUs\n",
    "num_cpus = 4\n",
    "with multiprocessing.Pool(processes=num_cpus) as pool:\n",
    "    shard_args = [(shards_train_images[i], shards_train_labels[i], shards_validation_images[i], shards_validation_labels[i], shards_test_images[i], shards_test_labels[i]) for i in range(num_shards)]\n",
    "    shard_results = pool.map(train_and_evaluate_model, shard_args)\n",
    "\n",
    "# Calculate the total execution time\n",
    "execution_time = time.time() - start_time\n",
    "print(\"Total Execution Time:\", execution_time, \"seconds\")\n"
   ]
  },
  {
   "cell_type": "code",
   "execution_count": 18,
   "id": "2d97994d",
   "metadata": {},
   "outputs": [
    {
     "name": "stdout",
     "output_type": "stream",
     "text": [
      "Average Accuracy Across All Shards: 0.5000\n",
      "Average Loss Across All Shards: 1.1329\n"
     ]
    },
    {
     "data": {
      "image/png": "[encoded data removed]",
      "text/plain": [
       "<Figure size 576x360 with 1 Axes>"
      ]
     },
     "metadata": {
      "needs_background": "light"
     },
     "output_type": "display_data"
    }
   ],
   "source": [
    "# Calculate the average accuracy and loss for the entire model\n",
    "average_accuracy = np.mean([shard_accuracy for (_, shard_accuracy, _) in shard_results])\n",
    "average_loss = np.mean([shard_loss for (shard_loss, _, _) in shard_results])\n",
    "\n",
    "\n",
    "\n",
    "# Print the average accuracy and loss\n",
    "print(f\"Average Accuracy Across All Shards: {average_accuracy:.4f}\")\n",
    "print(f\"Average Loss Across All Shards: {average_loss:.4f}\")\n",
    "\n",
    "# Visualize the accuracy of the entire model\n",
    "plt.figure(figsize=(8, 5))\n",
    "for i, (_, _, shard_history) in enumerate(shard_results):\n",
    "    plt.plot(range(1, 6), shard_history.history['val_accuracy'], label=f'Shard {i + 1}')\n",
    "plt.xlabel('Epoch')\n",
    "plt.ylabel('Validation Accuracy')\n",
    "plt.title('Validation Accuracy Over Epochs for Each Shard')\n",
    "plt.legend()\n",
    "plt.grid(True)\n",
    "plt.show()"
   ]
  },
  {
   "cell_type": "code",
   "execution_count": null,
   "id": "9dc0e1b1",
   "metadata": {},
   "outputs": [],
   "source": []
  },
  {
   "cell_type": "code",
   "execution_count": null,
   "id": "c625c42c",
   "metadata": {},
   "outputs": [],
   "source": []
  }
 ],
 "metadata": {
  "kernelspec": {
   "display_name": "Python 3 (ipykernel)",
   "language": "python",
   "name": "python3"
  },
  "language_info": {
   "codemirror_mode": {
    "name": "ipython",
    "version": 3
   },
   "file_extension": ".py",
   "mimetype": "text/x-python",
   "name": "python",
   "nbconvert_exporter": "python",
   "pygments_lexer": "ipython3",
   "version": "3.10.12"
  }
 },
 "nbformat": 4,
 "nbformat_minor": 5
}
